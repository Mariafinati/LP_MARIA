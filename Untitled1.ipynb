{
  "nbformat": 4,
  "nbformat_minor": 0,
  "metadata": {
    "colab": {
      "provenance": [],
      "authorship_tag": "ABX9TyOZC21hajgu8QTUTqdjW4Es",
      "include_colab_link": true
    },
    "kernelspec": {
      "name": "python3",
      "display_name": "Python 3"
    },
    "language_info": {
      "name": "python"
    }
  },
  "cells": [
    {
      "cell_type": "markdown",
      "metadata": {
        "id": "view-in-github",
        "colab_type": "text"
      },
      "source": [
        "<a href=\"https://colab.research.google.com/github/Mariafinati/LP_MARIA/blob/main/Untitled1.ipynb\" target=\"_parent\"><img src=\"https://colab.research.google.com/assets/colab-badge.svg\" alt=\"Open In Colab\"/></a>"
      ]
    },
    {
      "cell_type": "markdown",
      "source": [],
      "metadata": {
        "id": "6HV9imRraH_T"
      }
    },
    {
      "cell_type": "markdown",
      "source": [
        "#EXEMPLO 9"
      ],
      "metadata": {
        "id": "impcyTp8aT_F"
      }
    },
    {
      "cell_type": "code",
      "source": [],
      "metadata": {
        "id": "96VBOKB6aZl9"
      },
      "execution_count": null,
      "outputs": []
    },
    {
      "cell_type": "markdown",
      "source": [],
      "metadata": {
        "id": "-7lDZx4gaR2s"
      }
    },
    {
      "cell_type": "code",
      "source": [
        "#PERGUNTE AO USUARIO SE DESEJA REALIZAR A SOMA\n",
        "\n",
        "while True:\n",
        "  resposta = input(\"Deseja realizar a soma? (sim/nâo) : \") . lower ()\n",
        "  if resposta == \"sim\" :\n",
        "    num1 = float(input(\"digite o primeiro número: \")) # this line was not properly indented\n",
        "    num2 = float(input(\"digite o segundo número: \")) # this line was not properly indented\n",
        "    soma = num1 + num2 #Cálculo da soma\n",
        "    print(\"A soma é: \" , soma )\n",
        "  else:\n",
        "    print(\"Encerrando o programa.\")\n",
        "    break"
      ],
      "metadata": {
        "colab": {
          "base_uri": "https://localhost:8080/"
        },
        "id": "-fXYqndNacu-",
        "outputId": "2d445ac2-05f1-43eb-ee95-91a5309d00ac"
      },
      "execution_count": 11,
      "outputs": [
        {
          "output_type": "stream",
          "name": "stdout",
          "text": [
            "Deseja realizar a soma? (sim/nâo) : sim\n",
            "digite o primeiro número: 10\n",
            "digite o segundo número: 20\n",
            "A soma é:  30.0\n",
            "Deseja realizar a soma? (sim/nâo) : não\n",
            "Encerrando o programa.\n"
          ]
        }
      ]
    }
  ]
}