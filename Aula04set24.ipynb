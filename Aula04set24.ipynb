{
  "nbformat": 4,
  "nbformat_minor": 0,
  "metadata": {
    "colab": {
      "provenance": [],
      "authorship_tag": "ABX9TyNWv0+Hzvp/XMXuFLeHQTjx",
      "include_colab_link": true
    },
    "kernelspec": {
      "name": "python3",
      "display_name": "Python 3"
    },
    "language_info": {
      "name": "python"
    }
  },
  "cells": [
    {
      "cell_type": "markdown",
      "metadata": {
        "id": "view-in-github",
        "colab_type": "text"
      },
      "source": [
        "<a href=\"https://colab.research.google.com/github/Mariafinati/LP_MARIA/blob/main/Aula04set24.ipynb\" target=\"_parent\"><img src=\"https://colab.research.google.com/assets/colab-badge.svg\" alt=\"Open In Colab\"/></a>"
      ]
    },
    {
      "cell_type": "markdown",
      "source": [],
      "metadata": {
        "id": "DWCM97DhLDC_"
      }
    },
    {
      "cell_type": "markdown",
      "source": [
        "#EX.05- Aula LP02)"
      ],
      "metadata": {
        "id": "KUrv0lXyK4vN"
      }
    },
    {
      "cell_type": "code",
      "source": [
        "P = float(input(\"digite pol;\"))\n",
        "mm = P * 25.4\n",
        "print('o valor pol em mm é',mm)"
      ],
      "metadata": {
        "colab": {
          "base_uri": "https://localhost:8080/"
        },
        "id": "Tv3NPUIWJeav",
        "outputId": "f7bcc029-202d-438b-da80-0f579ce911cc"
      },
      "execution_count": 1,
      "outputs": [
        {
          "output_type": "stream",
          "name": "stdout",
          "text": [
            "digite pol;2\n",
            "o valor pol em mm é 50.8\n"
          ]
        }
      ]
    },
    {
      "cell_type": "code",
      "source": [],
      "metadata": {
        "id": "ywlky2oEPGR4"
      },
      "execution_count": null,
      "outputs": []
    },
    {
      "cell_type": "markdown",
      "source": [
        "#Criar a narrativa, pseudocódigo, fluxograma e código para um programa que receba o raio (r) de uma esfera, e em seguida calcule e exibir o seu volume (v) desta esfera"
      ],
      "metadata": {
        "id": "Sy_1M_gtP-Zg"
      }
    },
    {
      "cell_type": "code",
      "source": [
        "from math import pi\n",
        "#vou solicitar inicialmente o raio\n",
        "raio = float(input(\"digite raio: \"))\n",
        "v = (4/3) * pi * (raio**3)\n",
        "print(\"volume de esfera = \" , v)\n"
      ],
      "metadata": {
        "colab": {
          "base_uri": "https://localhost:8080/"
        },
        "id": "cOyHatssRt5a",
        "outputId": "4af7200d-e495-4737-ef7b-42d19633f917"
      },
      "execution_count": 10,
      "outputs": [
        {
          "output_type": "stream",
          "name": "stdout",
          "text": [
            "digite raio: 2\n",
            "volume de esfera =  33.510321638291124\n"
          ]
        }
      ]
    }
  ]
}